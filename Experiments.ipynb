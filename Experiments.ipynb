{
 "metadata": {
  "name": "",
  "signature": "sha256:73720ea2e206b094e3e49e269e805daa9e152e7d81f2ca5dad647b830a6e36ec"
 },
 "nbformat": 3,
 "nbformat_minor": 0,
 "worksheets": [
  {
   "cells": [
    {
     "cell_type": "heading",
     "level": 1,
     "metadata": {},
     "source": [
      "Mapping functions"
     ]
    },
    {
     "cell_type": "code",
     "collapsed": false,
     "input": [
      "mapping_classes = \"E | J N Q | R W X | D S Y | F T | A M | C I V | B K U | L O P | G H Z\".split(\"|\")\n",
      "\n",
      "mapping_dictionary = dict((number, (characters.split() + [c.lower() for c in characters.split()])) for number, characters in enumerate(encoding_source))\n",
      "\n",
      "mapping_dictionary\n"
     ],
     "language": "python",
     "metadata": {},
     "outputs": [
      {
       "metadata": {},
       "output_type": "pyout",
       "prompt_number": 30,
       "text": [
        "{0: ['E', 'e'],\n",
        " 1: ['J', 'N', 'Q', 'j', 'n', 'q'],\n",
        " 2: ['R', 'W', 'X', 'r', 'w', 'x'],\n",
        " 3: ['D', 'S', 'Y', 'd', 's', 'y'],\n",
        " 4: ['F', 'T', 'f', 't'],\n",
        " 5: ['A', 'M', 'a', 'm'],\n",
        " 6: ['C', 'I', 'V', 'c', 'i', 'v'],\n",
        " 7: ['B', 'K', 'U', 'b', 'k', 'u'],\n",
        " 8: ['L', 'O', 'P', 'l', 'o', 'p'],\n",
        " 9: ['G', 'H', 'Z', 'g', 'h', 'z']}"
       ]
      }
     ],
     "prompt_number": 30
    },
    {
     "cell_type": "code",
     "collapsed": false,
     "input": [
      "def get_number_encodings(number):\n",
      "    return mapping_dictionary[number]\n",
      "\n",
      "get_number_encodings(7)"
     ],
     "language": "python",
     "metadata": {},
     "outputs": [
      {
       "metadata": {},
       "output_type": "pyout",
       "prompt_number": 31,
       "text": [
        "['B', 'K', 'U', 'b', 'k', 'u']"
       ]
      }
     ],
     "prompt_number": 31
    },
    {
     "cell_type": "markdown",
     "metadata": {},
     "source": [
      "Your task is writing a program that finds, for a given phone number,\n",
      "**all possible encodings by words**, and prints them\n"
     ]
    },
    {
     "cell_type": "markdown",
     "metadata": {},
     "source": [
      "A phone number is an arbitrary(!) string of dashes - , slashes / and digits.\n",
      "The dashes and slashes will not be encoded."
     ]
    },
    {
     "cell_type": "code",
     "collapsed": false,
     "input": [
      "def prepare_for_encoding(s):\n",
      "    return s.translate(None, '-/')\n",
      "\n",
      "prepare_for_encoding('123/234-324')"
     ],
     "language": "python",
     "metadata": {},
     "outputs": [
      {
       "metadata": {},
       "output_type": "pyout",
       "prompt_number": 33,
       "text": [
        "'123234324'"
       ]
      }
     ],
     "prompt_number": 33
    },
    {
     "cell_type": "heading",
     "level": 1,
     "metadata": {},
     "source": [
      "Dictionary\n"
     ]
    },
    {
     "cell_type": "markdown",
     "metadata": {},
     "source": [
      "The words are taken from a dictionary which\n",
      "is given as an alphabetically sorted ASCII file (one word per line).\n",
      "\n",
      "NOTE: The dictionary is in German and contains umlaut characters\n",
      "encoded as double-quotes.  **The double-quotes should be ignored.**\n",
      "\n",
      "The words in the dictionary contain **letters**\n",
      "(capital or small, but the difference is ignored in the sorting), **dashes** - and **double quotes \"** . For the encoding only the letters are used, but\n",
      "**the words must be printed in exactly the form given in the dictionary.**\n",
      "Leading non-letters do not occur in the dictionary."
     ]
    },
    {
     "cell_type": "code",
     "collapsed": false,
     "input": [
      "with open(\"dictionary.txt\") as f:\n",
      "    dictionary_content = f.read().splitlines()\n",
      "    \n",
      "dictionary_content[:10]"
     ],
     "language": "python",
     "metadata": {},
     "outputs": [
      {
       "metadata": {},
       "output_type": "pyout",
       "prompt_number": 37,
       "text": [
        "['Aachen',\n",
        " 'Aal',\n",
        " 'Aas',\n",
        " 'Aasgeier',\n",
        " 'Abakus',\n",
        " 'aba\"nderlich',\n",
        " 'aba\"ndern',\n",
        " 'Aba\"nderung',\n",
        " 'Aba\"nderungsantrag',\n",
        " 'Aba\"nderungsantra\"ge']"
       ]
      }
     ],
     "prompt_number": 37
    },
    {
     "cell_type": "markdown",
     "metadata": {},
     "source": [
      "Only exactly each encoding that is possible from this dictionary and\n",
      "that **matches the phone number exactly** shall be printed. Thus,\n",
      "**possibly nothing is printed at all.**"
     ]
    },
    {
     "cell_type": "code",
     "collapsed": false,
     "input": [
      "classes = \"E | J N Q | R W X | D S Y | F T | A M | C I V | B K U | L O P | G H Z\".upper().split(\"|\")\n",
      "classes"
     ],
     "language": "python",
     "metadata": {},
     "outputs": [
      {
       "metadata": {},
       "output_type": "pyout",
       "prompt_number": 46,
       "text": [
        "['E ',\n",
        " ' J N Q ',\n",
        " ' R W X ',\n",
        " ' D S Y ',\n",
        " ' F T ',\n",
        " ' A M ',\n",
        " ' C I V ',\n",
        " ' B K U ',\n",
        " ' L O P ',\n",
        " ' G H Z']"
       ]
      }
     ],
     "prompt_number": 46
    },
    {
     "cell_type": "code",
     "collapsed": false,
     "input": [
      "my_dict = {}\n",
      "for index, chars in enumerate(classes):\n",
      "    for c in chars.strip().split(' '):\n",
      "        my_dict[c] = index\n",
      "        \n",
      "my_dict"
     ],
     "language": "python",
     "metadata": {},
     "outputs": [
      {
       "metadata": {},
       "output_type": "pyout",
       "prompt_number": 47,
       "text": [
        "{'A': 5,\n",
        " 'B': 7,\n",
        " 'C': 6,\n",
        " 'D': 3,\n",
        " 'E': 0,\n",
        " 'F': 4,\n",
        " 'G': 9,\n",
        " 'H': 9,\n",
        " 'I': 6,\n",
        " 'J': 1,\n",
        " 'K': 7,\n",
        " 'L': 8,\n",
        " 'M': 5,\n",
        " 'N': 1,\n",
        " 'O': 8,\n",
        " 'P': 8,\n",
        " 'Q': 1,\n",
        " 'R': 2,\n",
        " 'S': 3,\n",
        " 'T': 4,\n",
        " 'U': 7,\n",
        " 'V': 6,\n",
        " 'W': 2,\n",
        " 'X': 2,\n",
        " 'Y': 3,\n",
        " 'Z': 9}"
       ]
      }
     ],
     "prompt_number": 47
    },
    {
     "cell_type": "heading",
     "level": 1,
     "metadata": {},
     "source": [
      "Get the longest word in the dictionary and encode"
     ]
    },
    {
     "cell_type": "code",
     "collapsed": false,
     "input": [
      "longest = max(dictionary_content)\n",
      "longest"
     ],
     "language": "python",
     "metadata": {},
     "outputs": [
      {
       "metadata": {},
       "output_type": "pyout",
       "prompt_number": 48,
       "text": [
        "'zynismusfo\"rdernd'"
       ]
      }
     ],
     "prompt_number": 48
    },
    {
     "cell_type": "code",
     "collapsed": false,
     "input": [
      "encoded = ''.join([str(my_dict[c]) for c in longest.upper().translate(None, '\"')])\n",
      "encoded\n",
      "\n",
      "encoder = lambda x: ''.join([str(my_dict[c]) for c in x.upper().translate(None, '\"-')])"
     ],
     "language": "python",
     "metadata": {},
     "outputs": [],
     "prompt_number": 63
    },
    {
     "cell_type": "code",
     "collapsed": false,
     "input": [
      "sorted_by_length = sorted(dictionary_content, key=len)\n",
      "[ encoder(x) for x in sorted_by_length[-50:]]"
     ],
     "language": "python",
     "metadata": {},
     "outputs": [
      {
       "metadata": {},
       "output_type": "pyout",
       "prompt_number": 64,
       "text": [
        "['352340887193903692613697064',\n",
        " '360134806347193903088369544',\n",
        " '014266787193903692613697064',\n",
        " '48769486193372699519385902',\n",
        " '473375885063402369544338608',\n",
        " '785571675468133692602697064',\n",
        " '806694549804676025134584719',\n",
        " '369206755369610190369260701',\n",
        " '340702961402960971937251690',\n",
        " '427880134546816027193783401',\n",
        " '7702727677193461519602719',\n",
        " '770272767719327679598719',\n",
        " '77023692055719375453428890',\n",
        " '6029283302719358986697064',\n",
        " '259236906186697064320691719',\n",
        " '208490371390643829516354681',\n",
        " '9598719376851977023697330',\n",
        " '587898860242598669706434034',\n",
        " '5270643703695447193553315950',\n",
        " '7713039037139064356163402675',\n",
        " '306630138077854681390369544',\n",
        " '362074602366902719360242590',\n",
        " '903088369544340702027852719',\n",
        " '8857367686454377028274719',\n",
        " '4278801345468160271936024259',\n",
        " '716602358369257701369873308',\n",
        " '602588905061027193459697064',\n",
        " '2544013468834513360295138719',\n",
        " '252505733091719378044696014',\n",
        " '289845469706436025134584719',\n",
        " '97355501909826970643904798',\n",
        " '58806160242047193517020694694',\n",
        " '77130385132624369544356163402',\n",
        " '0807428613458854681390369544',\n",
        " '01426678719378340170406869719',\n",
        " '9036926136970643703692517719',\n",
        " '36925190236954437140272069719',\n",
        " '26243695443614825546813360134',\n",
        " '771303602406369719356163402675',\n",
        " '407694697064371058461386697064',\n",
        " '407026023669027193903088369544',\n",
        " '9095730870248569017095138719',\n",
        " '259236906186697064349082046369',\n",
        " '903692613697064377023692064719',\n",
        " '7251701957345909083602366902719',\n",
        " '52706438830160236690271937064259',\n",
        " '2624369544382747193903088369544',\n",
        " '30873460226278669719358986697064',\n",
        " '527064388301602366902719370642590',\n",
        " '771303573768371934823027193903049']"
       ]
      }
     ],
     "prompt_number": 64
    },
    {
     "cell_type": "code",
     "collapsed": false,
     "input": [],
     "language": "python",
     "metadata": {},
     "outputs": []
    }
   ],
   "metadata": {}
  }
 ]
}